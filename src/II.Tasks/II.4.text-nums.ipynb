{
 "cells": [
  {
   "cell_type": "markdown",
   "metadata": {},
   "source": [
    "# Task 4: Text numbers to digits\n"
   ]
  },
  {
   "cell_type": "markdown",
   "metadata": {},
   "source": [
    "## `Description`\n"
   ]
  },
  {
   "cell_type": "markdown",
   "metadata": {},
   "source": [
    "### Convert text numbers to digits\n"
   ]
  },
  {
   "cell_type": "markdown",
   "metadata": {},
   "source": [
    "#### Examples\n"
   ]
  },
  {
   "cell_type": "markdown",
   "metadata": {},
   "source": [
    "### Example:\n",
    "\n",
    "_Russian_\n",
    "\n",
    "```text\n",
    "- Input:\n",
    "семьсот восемьдесят три тысячи девятьсот девятнадцать\n",
    "- Output: 783919\n",
    "\n",
    "input: тысяча один\n",
    "output: 1001\n",
    "input: две тысяча один\n",
    "output: 2001\n",
    "```\n",
    "\n",
    "_English_\n",
    "\n",
    "```text\n",
    "- Input:\n",
    "seven hundred and eighty-three thousand nine hundred and nineteen\n",
    "- Output: 783919\n",
    "```\n"
   ]
  },
  {
   "cell_type": "markdown",
   "metadata": {},
   "source": [
    "## `Solution`\n"
   ]
  },
  {
   "cell_type": "markdown",
   "metadata": {},
   "source": [
    "##### Russian\n"
   ]
  },
  {
   "cell_type": "code",
   "execution_count": null,
   "metadata": {},
   "outputs": [
    {
     "name": "stdout",
     "output_type": "stream",
     "text": [
      "101508\n"
     ]
    }
   ],
   "source": [
    "input_string = input('Enter a number in words in Russian: ')\n",
    "\n",
    "word_num_ru = {\n",
    "    \"один\": 1, \"одна\": 1, \"два\": 2, \"две\": 2, \"три\": 3, \"четыре\": 4, \"пять\": 5, \"шесть\": 6, \"семь\": 7, \"восемь\": 8, \"девять\": 9, \"десять\": 10, \"одиннадцать\": 11, \"двенадцать\": 12, \"тринадцать\": 13, \"четырнадцать\": 14, \"пятнадцать\": 15, \"шестнадцать\": 16, \"семнадцать\": 17, \"восемнадцать\": 18, \"девятнадцать\": 19, \"двадцать\": 20, \"тридцать\": 30, \"сорок\": 40, \"пятьдесят\": 50, \"шестьдесят\": 60, \"семьдесят\": 70, \"восемьдесят\": 80, \"девяносто\": 90, \"сто\": 100, \"двести\": 200, \"триста\": 300, \"четыреста\": 400, \"пятьсот\": 500, \"шестьсот\": 600, \"семьсот\": 700, \"восемьсот\": 800, \"девятьсот\": 900, \"тысяча\": 1000,  \"тысячи\": 1000, \"тысяч\": 1000, \"миллион\": 1000000, \"миллиона\": 1000000, \"миллионов\": 1000000 }\n",
    "\n",
    "\n",
    "def transform_ru_string_to_integer(s):\n",
    "    # - remove extra spaces, hyphens and convert to lowercase\n",
    "    # - split the string into words by space\n",
    "    lst = s.replace('  ', ' ').strip().replace('-', ' ').lower().split()\n",
    "\n",
    "    memory = 0 # temporary storage\n",
    "    result = 0 # final result\n",
    "\n",
    "    for w in lst: # iterate over the words\n",
    "        if w not in word_num_ru: return f\"Unknown word: {w}\"\n",
    "        n = word_num_ru[w] # get value of the word\n",
    "        if n < 1000:\n",
    "            memory += n # add to memory\n",
    "        else:\n",
    "            memory = max(memory, 1) * n # multiply memory by n and avoid multiplying by 0\n",
    "            result += memory # add memory to result\n",
    "            memory = 0 # reset memory\n",
    "    result += memory # add the last value to the result\n",
    "    return result\n",
    "\n",
    "print( transform_ru_string_to_integer(input_string) )"
   ]
  },
  {
   "cell_type": "markdown",
   "metadata": {},
   "source": [
    "---\n"
   ]
  },
  {
   "cell_type": "markdown",
   "metadata": {},
   "source": [
    "##### English\n"
   ]
  },
  {
   "cell_type": "code",
   "execution_count": 9,
   "metadata": {},
   "outputs": [
    {
     "name": "stdout",
     "output_type": "stream",
     "text": [
      "1101\n"
     ]
    }
   ],
   "source": [
    "input_string = input('Enter a number in words: ')\n",
    "\n",
    "word_num_en = {\n",
    "    'one': 1, 'two': 2, 'three': 3, 'four': 4, 'five': 5, 'six': 6, 'seven': 7, 'eight': 8, 'nine': 9, 'ten': 10, 'eleven': 11, 'twelve': 12, 'thirteen': 13, 'fourteen': 14, 'fifteen': 15, 'sixteen': 16, 'seventeen': 17, 'eighteen': 18, 'nineteen': 19, 'twenty': 20, 'thirty': 30, 'forty': 40, 'fifty': 50, 'sixty': 60, 'seventy': 70, 'eighty': 80, 'ninety': 90, 'hundred': 100, 'thousand': 1000, 'million': 1000000\n",
    "}\n",
    "\n",
    "def transform_string_to_integer(s):\n",
    "    # - remove extra spaces, hyphens and convert to lowercase\n",
    "    # - split the string into words by space\n",
    "    lst = s.replace('  ', ' ').strip().replace('-', ' ').lower().split()\n",
    "    memory = 0\n",
    "    result = 0\n",
    "    for w in lst:\n",
    "        if w == 'and': continue\n",
    "        if w not in word_num_en: return f\"Unknown word: {w}\"\n",
    "        n = word_num_en[w]\n",
    "        if n < 100:\n",
    "            memory += n # save the number for later\n",
    "        elif n == 100:\n",
    "            memory = max(memory, 1) * n # multiply memory by n and avoid multiplying by 0\n",
    "        else: # n == 1000, 1000000\n",
    "            memory = max(memory, 1) * n # multiply memory by n and avoid multiplying by 0\n",
    "            result += memory\n",
    "            memory = 0\n",
    "    result += memory\n",
    "    return result\n",
    "\n",
    "print( transform_string_to_integer(input_string) )"
   ]
  },
  {
   "cell_type": "code",
   "execution_count": null,
   "metadata": {},
   "outputs": [
    {
     "name": "stdout",
     "output_type": "stream",
     "text": [
      "100\n"
     ]
    }
   ],
   "source": []
  }
 ],
 "metadata": {
  "kernelspec": {
   "display_name": ".venv",
   "language": "python",
   "name": "python3"
  },
  "language_info": {
   "codemirror_mode": {
    "name": "ipython",
    "version": 3
   },
   "file_extension": ".py",
   "mimetype": "text/x-python",
   "name": "python",
   "nbconvert_exporter": "python",
   "pygments_lexer": "ipython3",
   "version": "3.12.4"
  }
 },
 "nbformat": 4,
 "nbformat_minor": 2
}
