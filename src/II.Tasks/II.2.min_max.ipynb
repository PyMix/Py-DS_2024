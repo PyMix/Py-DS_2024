{
 "cells": [
  {
   "cell_type": "markdown",
   "metadata": {},
   "source": [
    "# Task 2: minimum and maximum\n"
   ]
  },
  {
   "cell_type": "markdown",
   "metadata": {},
   "source": [
    "## `Description`\n"
   ]
  },
  {
   "cell_type": "markdown",
   "metadata": {},
   "source": [
    "### Find minimum and maximum\n",
    "\n",
    "- User inputs a _list of real numbers separated by space_.\n",
    "- _Comma_ is used as _decimal separator_\n",
    "- If _word_ is entered, it is _ignored_\n"
   ]
  },
  {
   "cell_type": "markdown",
   "metadata": {},
   "source": [
    "### Example:\n",
    "\n",
    "```text\n",
    "Input:\n",
    "-2,56 25,002 eight 19,13 13 -37,5\n",
    "\n",
    "Output:\n",
    "Minimum: -37.5\n",
    "Maximim: 25.002\n",
    "```\n"
   ]
  },
  {
   "cell_type": "markdown",
   "metadata": {},
   "source": [
    "## `Solution`\n"
   ]
  },
  {
   "cell_type": "code",
   "execution_count": 8,
   "metadata": {},
   "outputs": [
    {
     "name": "stdout",
     "output_type": "stream",
     "text": [
      "Minimum: -37.5 \n",
      "Maximim: 25.002\n"
     ]
    }
   ],
   "source": [
    "\n",
    "input_string = input('Enter numbers separated by space: ')\n",
    "\n",
    "def find_min_max(s):\n",
    "    \"\"\"find minimum and maximum values from a string of numbers\"\"\"\n",
    "\n",
    "    if not s: return None, None # if string is empty return (None, None)\n",
    "\n",
    "    # remove extra spaces, replace commas with dots and split the string\n",
    "    lst = s.replace('  ', ' ').strip().replace(',', '.').split()\n",
    "\n",
    "    # convert to float and remove alphabets\n",
    "    lst = [float(x) for x in lst if not x.isalpha()]\n",
    "    return min(lst), max(lst) # return minimum and maximum values\n",
    "\n",
    "mn, mx = find_min_max(input_string)\n",
    "print(f\"Minimum: {mn} \\nMaximim: {mx}\")"
   ]
  }
 ],
 "metadata": {
  "kernelspec": {
   "display_name": ".venv",
   "language": "python",
   "name": "python3"
  },
  "language_info": {
   "codemirror_mode": {
    "name": "ipython",
    "version": 3
   },
   "file_extension": ".py",
   "mimetype": "text/x-python",
   "name": "python",
   "nbconvert_exporter": "python",
   "pygments_lexer": "ipython3",
   "version": "3.12.4"
  }
 },
 "nbformat": 4,
 "nbformat_minor": 2
}
