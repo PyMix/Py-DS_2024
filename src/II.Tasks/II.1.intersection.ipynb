{
 "cells": [
  {
   "cell_type": "markdown",
   "metadata": {},
   "source": [
    "# Task 1: Introduction\n"
   ]
  },
  {
   "cell_type": "markdown",
   "metadata": {},
   "source": [
    "## `Description`\n"
   ]
  },
  {
   "cell_type": "markdown",
   "metadata": {},
   "source": [
    "### Find the intersection (no duplicates)\n",
    "\n",
    "User enters\n",
    "\n",
    "- _two sequences of numbers_ separated by a comma and a space.\n",
    "\n",
    "---\n",
    "\n",
    "1. convert each user input to a separate list of integers\n",
    "2. create a new list of elements that\n",
    "   - intersection of the two lists\n",
    "   - if the intersection is empty - empty list\n",
    "3. remove duplicates\n",
    "4. print the resulting list on the screen\n",
    "   - if an error - print \"Incorrect input\"\n"
   ]
  },
  {
   "cell_type": "markdown",
   "metadata": {},
   "source": [
    "#### `Examples`\n",
    "\n",
    "```text\n",
    "input:\n",
    "108, 138, 42, 52, 14\n",
    "109, 13, 52, 32, 42, 14, 109\n",
    "Ouput:\n",
    "[42, 52, 14]\n",
    "\n",
    "Input:\n",
    "108, 138, 42, 52, 14\n",
    "189, 202, 249, 24, 15, 3\n",
    "Ouput:\n",
    "[]\n",
    "\n",
    "Input:\n",
    "108, 138, 42, 52, четырнадцать\n",
    "189, 202, 249, 24, 15, 3\n",
    "Ouput:\n",
    "Incorrect input\n",
    "```\n"
   ]
  },
  {
   "cell_type": "markdown",
   "metadata": {},
   "source": [
    "## `Solution`\n"
   ]
  },
  {
   "cell_type": "code",
   "execution_count": null,
   "metadata": {},
   "outputs": [],
   "source": [
    "input_string1 = input('Enter 1st sequence of numbers separated by commas: ')\n",
    "input_string2 = input('Enter 2nd sequence of numbers separated by commas: ')\n",
    "\n",
    "def to_int_list(s):\n",
    "    \"\"\"converts a string to a list of integers\"\"\"\n",
    "    try:\n",
    "        lst = s.replace(' ', '').split(',') # remove spaces and split the string by commas\n",
    "        lst = [x for x in lst if x] # remove empty strings\n",
    "        return list( map(int, lst) ) # convert the list to integers\n",
    "    except (ValueError):\n",
    "        return None # return None if the conversion fails\n",
    "\n",
    "def pure_intersection(s1, s2):\n",
    "    \"\"\"returns a list of common unique elements between two lists\"\"\"\n",
    "\n",
    "    # convert the strings to lists of integers\n",
    "    lst1, lst2 = to_int_list(s1), to_int_list(s2)\n",
    "    if lst1 is None or lst2 is None:\n",
    "        return 'Incorrect input'\n",
    "\n",
    "    # return the intersection of the two lists\n",
    "    return list( set(lst1).intersection(set(lst2)) )\n",
    "\n",
    "print(pure_intersection(input_string1, input_string2))"
   ]
  }
 ],
 "metadata": {
  "kernelspec": {
   "display_name": ".venv",
   "language": "python",
   "name": "python3"
  },
  "language_info": {
   "codemirror_mode": {
    "name": "ipython",
    "version": 3
   },
   "file_extension": ".py",
   "mimetype": "text/x-python",
   "name": "python",
   "nbconvert_exporter": "python",
   "pygments_lexer": "ipython3",
   "version": "3.12.4"
  }
 },
 "nbformat": 4,
 "nbformat_minor": 2
}
