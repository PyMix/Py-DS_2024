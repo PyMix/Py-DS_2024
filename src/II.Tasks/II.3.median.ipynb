{
 "cells": [
  {
   "cell_type": "markdown",
   "metadata": {},
   "source": [
    "# Task 3: Median\n"
   ]
  },
  {
   "cell_type": "markdown",
   "metadata": {},
   "source": [
    "## `Description`\n"
   ]
  },
  {
   "cell_type": "markdown",
   "metadata": {},
   "source": [
    "### Find the median of the given list of numbers.\n",
    "\n",
    "- input _numbers_ separated by _comma and space_\n"
   ]
  },
  {
   "cell_type": "markdown",
   "metadata": {},
   "source": [
    "### Example:\n",
    "\n",
    "```text\n",
    "Input:\n",
    "1, 5, 2, 3, 6\n",
    "Output:\n",
    "Median: 3.0\n",
    "\n",
    "Input\n",
    "100, 5, 2, 4, 3, 6\n",
    "Output\n",
    "Median: 4.5\n",
    "\n",
    "Input:\n",
    "\n",
    "Output:\n",
    "Incorrect input\n",
    "```\n"
   ]
  },
  {
   "cell_type": "markdown",
   "metadata": {},
   "source": [
    "## `Solution`\n"
   ]
  },
  {
   "cell_type": "code",
   "execution_count": 1,
   "metadata": {},
   "outputs": [
    {
     "name": "stdout",
     "output_type": "stream",
     "text": [
      "2.5\n"
     ]
    }
   ],
   "source": [
    "input_string = input('Enter numbers:')\n",
    "\n",
    "def find_median(s):\n",
    "    try:\n",
    "        # remove spaces and split the string by commas\n",
    "        lst = s.replace(' ', '').split(',')\n",
    "        # convert the list of strings (except empty) to a list of floats\n",
    "        lst = sorted(float(x) for x in lst if x)\n",
    "\n",
    "        # calculate the median\n",
    "        l = len(lst) # length of the list\n",
    "        if l % 2 != 0: # if the length is odd\n",
    "            return lst[l // 2] # return the middle element\n",
    "        else: # length is even - average of the two middle elements\n",
    "            return 0.5 * (lst[l // 2 - 1] + lst[l // 2])\n",
    "    except:\n",
    "        return \"Incorrect input\"\n",
    "\n",
    "\n",
    "print( find_median(input_string) )"
   ]
  }
 ],
 "metadata": {
  "kernelspec": {
   "display_name": ".venv",
   "language": "python",
   "name": "python3"
  },
  "language_info": {
   "codemirror_mode": {
    "name": "ipython",
    "version": 3
   },
   "file_extension": ".py",
   "mimetype": "text/x-python",
   "name": "python",
   "nbconvert_exporter": "python",
   "pygments_lexer": "ipython3",
   "version": "3.12.4"
  }
 },
 "nbformat": 4,
 "nbformat_minor": 2
}
